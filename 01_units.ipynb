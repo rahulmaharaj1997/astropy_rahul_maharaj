{
 "cells": [
  {
   "cell_type": "markdown",
   "metadata": {},
   "source": [
    "# Units and Conversion \n",
    "\n",
    "## Importing Constants \n",
    "\n",
    "Import the Gravitational Constant $G = 6.67 \\times 10^{-11} \\; \\text{N.m}^{2}.\\text{kg}^{-2}$ "
   ]
  },
  {
   "cell_type": "code",
   "execution_count": 1,
   "metadata": {},
   "outputs": [
    {
     "data": {
      "text/latex": [
       "$6.6743 \\times 10^{-11} \\; \\mathrm{\\frac{m^{3}}{kg\\,s^{2}}}$"
      ],
      "text/plain": [
       "<<class 'astropy.constants.codata2018.CODATA2018'> name='Gravitational constant' value=6.6743e-11 uncertainty=1.5e-15 unit='m3 / (kg s2)' reference='CODATA 2018'>"
      ]
     },
     "execution_count": 1,
     "metadata": {},
     "output_type": "execute_result"
    }
   ],
   "source": [
    "from astropy.constants import G\n",
    "G"
   ]
  },
  {
   "cell_type": "markdown",
   "metadata": {},
   "source": [
    "Import the Speed of Light $c = 2.998 \\times 10^{8} \\; \\text{m.s}^{-1}$ constant."
   ]
  },
  {
   "cell_type": "code",
   "execution_count": 9,
   "metadata": {},
   "outputs": [
    {
     "data": {
      "text/latex": [
       "$2.9979246 \\times 10^{8} \\; \\mathrm{\\frac{m}{s}}$"
      ],
      "text/plain": [
       "<<class 'astropy.constants.codata2018.CODATA2018'> name='Speed of light in vacuum' value=299792458.0 uncertainty=0.0 unit='m / s' reference='CODATA 2018'>"
      ]
     },
     "execution_count": 9,
     "metadata": {},
     "output_type": "execute_result"
    }
   ],
   "source": [
    "import astropy.constants as const \n",
    "\n",
    "const.c"
   ]
  },
  {
   "cell_type": "markdown",
   "metadata": {},
   "source": [
    "We can use constants from the astropy.units library \n",
    "\n",
    "Lets do some physics problems\n",
    "\n",
    "Calculate the gravitational force between a 100 kg satellite and the sun separated from a 1500 km distance."
   ]
  },
  {
   "cell_type": "code",
   "execution_count": 10,
   "metadata": {},
   "outputs": [
    {
     "data": {
      "text/latex": [
       "$5.8983307 \\times 10^{9} \\; \\mathrm{N}$"
      ],
      "text/plain": [
       "<Quantity 5.89833067e+09 N>"
      ]
     },
     "execution_count": 10,
     "metadata": {},
     "output_type": "execute_result"
    }
   ],
   "source": [
    "from astropy.constants import G , M_sun\n",
    "import astropy.units as u \n",
    "\n",
    "\n",
    "m_sat = 100*u.kg\n",
    "r = 1500*u.km.to(u.m) # Conversion from km to m \n",
    "\n",
    "F = (G*M_sun*100*u.kg)/(1500*u.km)**2 \n",
    "\n",
    "F.to(u.N)\n"
   ]
  },
  {
   "cell_type": "code",
   "execution_count": 11,
   "metadata": {},
   "outputs": [
    {
     "name": "stdout",
     "output_type": "stream",
     "text": [
      "0.3675671602160826 N\n"
     ]
    }
   ],
   "source": [
    "from astropy import units as u\n",
    "import astropy.constants as const\n",
    "F = (const.G * 3. * const.M_sun * 100 * u.kg) / (2.2 * u.au) ** 2\n",
    "print(F.to(u.N)) "
   ]
  },
  {
   "cell_type": "markdown",
   "metadata": {},
   "source": [
    "From energy conservation, the escape velocity is defined as $v_{s} = \\sqrt{2GM/R}$. Calculate the escape speed of an object confined within earth's gravitational field."
   ]
  },
  {
   "cell_type": "code",
   "execution_count": 12,
   "metadata": {},
   "outputs": [
    {
     "name": "stdout",
     "output_type": "stream",
     "text": [
      "vs = 11179.90725689236 m / s\n"
     ]
    }
   ],
   "source": [
    "import astropy.constants as const \n",
    "import astropy.units  as u \n",
    "import numpy as np \n",
    "\n",
    "vs = np.sqrt((2*const.G*const.M_earth)/const.R_earth)\n",
    "print(\"vs =\", vs)"
   ]
  },
  {
   "cell_type": "markdown",
   "metadata": {},
   "source": [
    "# Converting Units \n",
    "\n",
    ".to() : converts units in astropy.\n",
    "\n",
    "\n",
    "Convert the speed of light $c = 2.998 \\times 10^{8}$ m/s to : \n",
    "(i) km/hr \n",
    "(ii) pc/yr"
   ]
  },
  {
   "cell_type": "code",
   "execution_count": 13,
   "metadata": {},
   "outputs": [
    {
     "name": "stdout",
     "output_type": "stream",
     "text": [
      "1079252848.8 km / h\n",
      "0.30660139378555057 pc / yr\n"
     ]
    }
   ],
   "source": [
    "import astropy.constants as const\n",
    "import astropy.units as u \n",
    "\n",
    "# (i) \n",
    "print(const.c.to(u.km/u.hr))\n",
    "\n",
    "# (ii)\n",
    "print(const.c.to(u.pc/u.yr))"
   ]
  },
  {
   "cell_type": "markdown",
   "metadata": {},
   "source": [
    "Convert 450 eV to J "
   ]
  },
  {
   "cell_type": "code",
   "execution_count": 14,
   "metadata": {},
   "outputs": [
    {
     "name": "stdout",
     "output_type": "stream",
     "text": [
      "7.209794853e-17 J\n"
     ]
    }
   ],
   "source": [
    "import astropy.units as u \n",
    "\n",
    "print(450*u.eV.to(u.J), \"J\")"
   ]
  },
  {
   "cell_type": "markdown",
   "metadata": {},
   "source": [
    "# Equivalent Units \n",
    "\n",
    "There is no conversion between Hz and and nm. To convert we use the spectral equivalency. "
   ]
  },
  {
   "cell_type": "markdown",
   "metadata": {},
   "source": [
    "Convert 450 nm wavelength to MHz "
   ]
  },
  {
   "cell_type": "code",
   "execution_count": 15,
   "metadata": {},
   "outputs": [
    {
     "name": "stdout",
     "output_type": "stream",
     "text": [
      "134906606100000.0 MHz\n"
     ]
    }
   ],
   "source": [
    "print(450*u.nm.to(u.MHz, equivalencies= u.spectral() ), \"MHz\")"
   ]
  },
  {
   "cell_type": "markdown",
   "metadata": {},
   "source": [
    "Convert 450 degrees to radians using the dimensionless angles equivalency."
   ]
  },
  {
   "cell_type": "code",
   "execution_count": 16,
   "metadata": {},
   "outputs": [
    {
     "name": "stdout",
     "output_type": "stream",
     "text": [
      "7.853981633974483 rad\n"
     ]
    }
   ],
   "source": [
    "print(450*u.deg.to(u.rad, equivalencies= u.dimensionless_angles()), \"rad\")"
   ]
  }
 ],
 "metadata": {
  "kernelspec": {
   "display_name": "Python 3",
   "language": "python",
   "name": "python3"
  },
  "language_info": {
   "codemirror_mode": {
    "name": "ipython",
    "version": 3
   },
   "file_extension": ".py",
   "mimetype": "text/x-python",
   "name": "python",
   "nbconvert_exporter": "python",
   "pygments_lexer": "ipython3",
   "version": "undefined.undefined.undefined"
  }
 },
 "nbformat": 4,
 "nbformat_minor": 2
}
