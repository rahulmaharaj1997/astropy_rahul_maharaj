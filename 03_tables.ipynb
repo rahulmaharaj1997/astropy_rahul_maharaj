{
 "cells": [
  {
   "cell_type": "markdown",
   "metadata": {},
   "source": [
    "# Tables"
   ]
  },
  {
   "cell_type": "markdown",
   "metadata": {},
   "source": [
    "Astropy.Tables is an extension of Numpy that is used to manipulate and store data in tables which is similar to the data frame package in Pandas. "
   ]
  },
  {
   "cell_type": "markdown",
   "metadata": {},
   "source": [
    "Tables in astropy enables one to merge, join tables, delete and insert rows and columns of data inserting missing data which is very similar to cleaning data in an excel file project you did in the CSS2024 Project. "
   ]
  },
  {
   "cell_type": "markdown",
   "metadata": {},
   "source": [
    "Import the modules : "
   ]
  },
  {
   "cell_type": "code",
   "execution_count": 8,
   "metadata": {},
   "outputs": [],
   "source": [
    "import numpy as np \n",
    "from astropy.table import Table "
   ]
  },
  {
   "cell_type": "markdown",
   "metadata": {},
   "source": [
    "## Functions that Table in Astropy Does. \n",
    "\n",
    "* Read an existing file. \n",
    "* Add columns of data one by one. \n",
    "* From an existing data structure. \n",
    "* List of data columns one by one.\n",
    "* From an existing data structure in memory: \n",
    "   + List of data columns \n",
    "   + Dict of data columns. \n",
    "   + List of row dicts. \n",
    "   + Numpy homogenous array/ structured array\n",
    "   + List of row records "
   ]
  },
  {
   "cell_type": "markdown",
   "metadata": {},
   "source": [
    "## Creating a Table in Astropy \n",
    "\n",
    "The code below illustrates how to generate a table. \n"
   ]
  },
  {
   "cell_type": "code",
   "execution_count": 2,
   "metadata": {},
   "outputs": [
    {
     "name": "stdout",
     "output_type": "stream",
     "text": [
      " a   b   c    d  \n",
      "            m / s\n",
      "--- --- --- -----\n",
      "  1 2.0   x  10.0\n",
      "  4 5.0   y  20.0\n",
      "  5 8.5   z  30.0\n"
     ]
    }
   ],
   "source": [
    "from astropy.table import QTable\n",
    "import astropy.units as u \n",
    "import numpy as np \n",
    "\n",
    "# a, b , c and d are arrays that will be used to generate Tables. \n",
    "\n",
    "a = np.array([1, 4, 5], dtype=np.int32)\n",
    "b = [2.0, 5.0, 8.5]\n",
    "c = ['x', 'y', 'z']\n",
    "d = [10, 20, 30] * u.m / u.s\n",
    "\n",
    "t = QTable([a, b, c, d],\n",
    "names=('a', 'b', 'c', 'd'),\n",
    "meta={'name': 'first table'}) \n",
    "\n",
    "print(t)"
   ]
  },
  {
   "cell_type": "code",
   "execution_count": 10,
   "metadata": {},
   "outputs": [
    {
     "ename": "TypeError",
     "evalue": "'module' object is not callable",
     "output_type": "error",
     "traceback": [
      "\u001b[1;31m---------------------------------------------------------------------------\u001b[0m",
      "\u001b[1;31mTypeError\u001b[0m                                 Traceback (most recent call last)",
      "Cell \u001b[1;32mIn[10], line 7\u001b[0m\n\u001b[0;32m      4\u001b[0m sources \u001b[38;5;241m=\u001b[39m [\u001b[38;5;124m'\u001b[39m\u001b[38;5;124msource 1\u001b[39m\u001b[38;5;124m'\u001b[39m, \u001b[38;5;124m'\u001b[39m\u001b[38;5;124msource 2\u001b[39m\u001b[38;5;124m'\u001b[39m, \u001b[38;5;124m'\u001b[39m\u001b[38;5;124msource 3\u001b[39m\u001b[38;5;124m'\u001b[39m, \u001b[38;5;124m'\u001b[39m\u001b[38;5;124msource 4\u001b[39m\u001b[38;5;124m'\u001b[39m] \n\u001b[0;32m      5\u001b[0m fluxes \u001b[38;5;241m=\u001b[39m  [\u001b[38;5;241m1.2\u001b[39m, \u001b[38;5;241m2.2\u001b[39m, \u001b[38;5;241m3.1\u001b[39m, \u001b[38;5;241m4.3\u001b[39m]\n\u001b[1;32m----> 7\u001b[0m t \u001b[38;5;241m=\u001b[39m \u001b[43mQTable\u001b[49m\u001b[43m(\u001b[49m\u001b[43m[\u001b[49m\u001b[43msources\u001b[49m\u001b[43m,\u001b[49m\u001b[43m \u001b[49m\u001b[43mfluxes\u001b[49m\u001b[43m]\u001b[49m\u001b[43m,\u001b[49m\u001b[43m \u001b[49m\n\u001b[0;32m      8\u001b[0m \u001b[43m           \u001b[49m\u001b[43mnames\u001b[49m\u001b[38;5;241;43m=\u001b[39;49m\u001b[43m(\u001b[49m\u001b[38;5;124;43m'\u001b[39;49m\u001b[38;5;124;43msources\u001b[39;49m\u001b[38;5;124;43m'\u001b[39;49m\u001b[43m,\u001b[49m\u001b[43m \u001b[49m\u001b[38;5;124;43m'\u001b[39;49m\u001b[38;5;124;43mfluxes\u001b[39;49m\u001b[38;5;124;43m'\u001b[39;49m\u001b[43m)\u001b[49m\u001b[43m)\u001b[49m\n",
      "\u001b[1;31mTypeError\u001b[0m: 'module' object is not callable"
     ]
    }
   ],
   "source": [
    "import astropy.table as QTable \n",
    "\n",
    "\n",
    "sources = ['source 1', 'source 2', 'source 3', 'source 4'] \n",
    "fluxes =  [1.2, 2.2, 3.1, 4.3]\n",
    "\n",
    "t = QTable([sources, fluxes], \n",
    "           names=('sources', 'fluxes'))\n"
   ]
  },
  {
   "cell_type": "markdown",
   "metadata": {},
   "source": [
    "# Viewing and Manipulating Data from FITS Files"
   ]
  },
  {
   "cell_type": "markdown",
   "metadata": {},
   "source": [
    "## Goals of this Tutorial: \n",
    "* Download a FITS Table from a URL. \n",
    "* Open a FITS table file and view table contents.\n",
    "* Make a 2D Histogram with the 2D Data. \n",
    "* Close the FITS file after use. "
   ]
  },
  {
   "cell_type": "code",
   "execution_count": null,
   "metadata": {},
   "outputs": [],
   "source": [
    "import numpy as np \n",
    "from astropy.io import fits \n",
    "from astropy.table import Table \n",
    "from matplotlib.colors import LogNorm\n",
    "import matplotlib.pyplot as plt\n",
    "%matplotlib inline"
   ]
  },
  {
   "cell_type": "markdown",
   "metadata": {},
   "source": [
    "## Dowloading the FITS File."
   ]
  },
  {
   "cell_type": "code",
   "execution_count": null,
   "metadata": {},
   "outputs": [],
   "source": [
    "from astropy.utils.data import download_file"
   ]
  },
  {
   "cell_type": "markdown",
   "metadata": {},
   "source": [
    "In this example, we are downloading a file from Chandra Observatory. This FITS file contains data of a Galactic center such as spatial coordinates (x,y) and energies. "
   ]
  },
  {
   "cell_type": "code",
   "execution_count": null,
   "metadata": {},
   "outputs": [],
   "source": [
    "event_filename = download_file('http://data.astropy.org/tutorials/FITS-tables/chandra_events.fits', cache=True)"
   ]
  },
  {
   "cell_type": "code",
   "execution_count": null,
   "metadata": {},
   "outputs": [
    {
     "ename": "SyntaxError",
     "evalue": "invalid syntax (3122666691.py, line 1)",
     "output_type": "error",
     "traceback": [
      "\u001b[1;36m  Cell \u001b[1;32mIn[8], line 1\u001b[1;36m\u001b[0m\n\u001b[1;33m    https://learn.astropy.org/tutorials/FITS-tables.html\u001b[0m\n\u001b[1;37m          ^\u001b[0m\n\u001b[1;31mSyntaxError\u001b[0m\u001b[1;31m:\u001b[0m invalid syntax\n"
     ]
    }
   ],
   "source": [
    "https://learn.astropy.org/tutorials/FITS-tables.html"
   ]
  }
 ],
 "metadata": {
  "kernelspec": {
   "display_name": "Python 3",
   "language": "python",
   "name": "python3"
  },
  "language_info": {
   "codemirror_mode": {
    "name": "ipython",
    "version": 3
   },
   "file_extension": ".py",
   "mimetype": "text/x-python",
   "name": "python",
   "nbconvert_exporter": "python",
   "pygments_lexer": "ipython3",
   "version": "3.12.1"
  }
 },
 "nbformat": 4,
 "nbformat_minor": 2
}
