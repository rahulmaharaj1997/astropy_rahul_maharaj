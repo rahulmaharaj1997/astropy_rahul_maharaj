{
 "cells": [
  {
   "cell_type": "code",
   "execution_count": 3,
   "metadata": {},
   "outputs": [
    {
     "name": "stdout",
     "output_type": "stream",
     "text": [
      "<SkyCoord (ICRS): (ra, dec) in deg\n",
      "    (5.52844243, -72.05207809)>\n"
     ]
    }
   ],
   "source": [
    "from astropy.io import fits\n",
    "from astropy.wcs import WCS\n",
    "from astropy.utils.data import get_pkg_data_filename\n",
    "fn = get_pkg_data_filename('data/j94f05bgq_flt.fits', package='astropy.wcs.tests')\n",
    "f = fits.open(fn)\n",
    "w = WCS(f[1].header)\n",
    "sky = w.pixel_to_world(30, 40)\n",
    "print(sky)\n",
    "f.close()"
   ]
  }
 ],
 "metadata": {
  "kernelspec": {
   "display_name": "Python 3",
   "language": "python",
   "name": "python3"
  },
  "language_info": {
   "codemirror_mode": {
    "name": "ipython",
    "version": 3
   },
   "file_extension": ".py",
   "mimetype": "text/x-python",
   "name": "python",
   "nbconvert_exporter": "python",
   "pygments_lexer": "ipython3",
   "version": "3.12.1"
  }
 },
 "nbformat": 4,
 "nbformat_minor": 2
}
