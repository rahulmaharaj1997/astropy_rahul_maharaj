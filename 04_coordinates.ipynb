{
 "cells": [
  {
   "cell_type": "markdown",
   "metadata": {},
   "source": [
    "# Coordinates "
   ]
  },
  {
   "cell_type": "markdown",
   "metadata": {},
   "source": [
    "## ICRS Coordinates "
   ]
  },
  {
   "cell_type": "markdown",
   "metadata": {},
   "source": [
    "ICRS stands for International Celestial Reference System developed by the International Astromical Union (IAU). This coordinate Reference System is used to located stars using the sun as the origin. "
   ]
  },
  {
   "cell_type": "markdown",
   "metadata": {},
   "source": [
    "ICRS is the default Coordinate System used in SkyCoord"
   ]
  },
  {
   "cell_type": "markdown",
   "metadata": {},
   "source": []
  },
  {
   "cell_type": "code",
   "execution_count": 1,
   "metadata": {},
   "outputs": [
    {
     "name": "stdout",
     "output_type": "stream",
     "text": [
      "<SkyCoord (ICRS): (ra, dec) in deg\n",
      "    (1., 45.)>\n"
     ]
    }
   ],
   "source": [
    "import astropy.units as u \n",
    "from astropy.coordinates import SkyCoord \n",
    "gc = SkyCoord(ra = 1.0*u.degree, dec=45*u.degree, frame = 'icrs')\n",
    "print(gc)"
   ]
  },
  {
   "cell_type": "markdown",
   "metadata": {},
   "source": [
    "Other ways of representing coordinates in ICRS:"
   ]
  },
  {
   "cell_type": "code",
   "execution_count": 2,
   "metadata": {},
   "outputs": [
    {
     "data": {
      "text/plain": [
       "<SkyCoord (ICRS): (ra, dec) in deg\n",
       "    (10.625, 41.2)>"
      ]
     },
     "execution_count": 2,
     "metadata": {},
     "output_type": "execute_result"
    }
   ],
   "source": [
    "c = SkyCoord(10.625, 41.2, frame='icrs', unit='deg')\n",
    "c = SkyCoord('00h42m30s', '+41d12m00s', frame='icrs')\n",
    "c = SkyCoord('00h42.5m', '+41d12m')\n",
    "c = SkyCoord('00 42 30 +41 12 00', unit=(u.hourangle, u.deg))\n",
    "c = SkyCoord('00:42.5 +41:12', unit=(u.hourangle, u.deg))\n",
    "c  "
   ]
  },
  {
   "cell_type": "markdown",
   "metadata": {},
   "source": [
    "## Storing Coordinates as Arrays \n",
    "\n",
    "The SkyCoord function of the astropy.coordinates library is not limited to storing just one coordinate. It can store an array (of arbitrary size) of values as coordinates. This is what makes SkyCoord useful in astropy. It allows one to perform the same operation to many coordinates (catalogue of stars). "
   ]
  },
  {
   "cell_type": "code",
   "execution_count": 3,
   "metadata": {},
   "outputs": [
    {
     "name": "stdout",
     "output_type": "stream",
     "text": [
      "<SkyCoord (ICRS): (ra, dec) in deg\n",
      "    [(10.,  41.), (11.,  -5.), (12.,  42.), (13., -90.)]>\n"
     ]
    }
   ],
   "source": [
    "import numpy as np \n",
    "import astropy.units as u\n",
    "from astropy.coordinates import SkyCoord \n",
    "\n",
    "c = SkyCoord(ra= [10, 11, 12, 13]*u.degree, dec= [41, -5, 42, -90]*u.degree)\n",
    "print(c)\n",
    "\n"
   ]
  },
  {
   "cell_type": "code",
   "execution_count": 4,
   "metadata": {},
   "outputs": [
    {
     "name": "stdout",
     "output_type": "stream",
     "text": [
      "<SkyCoord (ICRS): (ra, dec) in deg\n",
      "    [(10., 41.), (11., -5.), (12., 42.), (13.,  0.)]>\n",
      "<SkyCoord (ICRS): (ra, dec) in deg\n",
      "    (11., -5.)>\n",
      "<SkyCoord (ICRS): (ra, dec) in deg\n",
      "    [[(10., 41.), (11., -5.)],\n",
      "     [(12., 42.), (13.,  0.)]]>\n",
      "<SkyCoord (ICRS): (ra, dec) in deg\n",
      "    [(13.,  0.), (10., 41.), (11., -5.), (12., 42.)]>\n"
     ]
    }
   ],
   "source": [
    "import numpy as np\n",
    "c = SkyCoord(ra=[10, 11, 12, 13]*u.degree, dec=[41, -5, 42, 0]*u.degree)\n",
    "print(c)\n",
    "print(c[1])\n",
    "print(c.reshape(2, 2))\n",
    "print(np.roll(c, 1))"
   ]
  },
  {
   "cell_type": "markdown",
   "metadata": {},
   "source": [
    "# Practice Exercise: \n",
    "\n",
    "## Represent the following as ICRS Coordinates: \n",
    "\n",
    "1. RA = $10.9876 \\degree $ , DEC = $-9.8763 \\degree$\n",
    "2. RA = $23.4873 \\degree$ , DEC = $23.4324 \\degree$\n",
    "3. RA = $39.2432 \\degree$ , DEC = $-19.3442 \\degree$"
   ]
  },
  {
   "cell_type": "markdown",
   "metadata": {},
   "source": [
    "Please Write Down Your Code in the Box Below: "
   ]
  },
  {
   "cell_type": "code",
   "execution_count": 29,
   "metadata": {},
   "outputs": [
    {
     "name": "stdout",
     "output_type": "stream",
     "text": [
      "<SkyCoord (ICRS): (ra, dec) in deg\n",
      "    (10.9876, -9.8763)>\n",
      "<SkyCoord (ICRS): (ra, dec) in deg\n",
      "    (23.4873, 23.4324)>\n",
      "<SkyCoord (ICRS): (ra, dec) in deg\n",
      "    (39.2432, -19.3442)>\n"
     ]
    }
   ],
   "source": [
    "from astropy.coordinates import SkyCoord \n",
    "import astropy.units as u \n",
    "# i\n",
    "a = SkyCoord(ra=10.9876*u.degree, dec=-9.8763*u.degree) \n",
    "print(a)\n",
    "\n",
    "# ii\n",
    "b = SkyCoord(ra=23.4873*u.degree, dec= 23.4324*u.degree) \n",
    "print(b)\n",
    "\n",
    "#iii \n",
    "c = SkyCoord(ra=39.2432*u.degree, dec=-19.3442*u.degree) \n",
    "print(c)\n"
   ]
  },
  {
   "cell_type": "markdown",
   "metadata": {},
   "source": [
    "Please Store the Values for the Right Accension Angles and Declination Angles as ICRS Coordinates \n",
    "\n",
    "1. $ RA = [15.987 \\degree, 29.932 \\degree, 23.421 \\degree, -18.231 \\degree, 54.345 \\degree, 3.313 \\degree]$ \n",
    "and $DEC = [13.245 \\degree, 29.313 \\degree, 32.324 \\degree, 6.754 \\degree, 84.234 \\degree, 56.432 \\degree ]$"
   ]
  },
  {
   "cell_type": "markdown",
   "metadata": {},
   "source": [
    "Please Enter Your Code in the Box Below: "
   ]
  },
  {
   "cell_type": "code",
   "execution_count": 61,
   "metadata": {},
   "outputs": [
    {
     "name": "stdout",
     "output_type": "stream",
     "text": [
      "<SkyCoord (ICRS): (ra, dec) in deg\n",
      "    [( 15.987, 13.245), ( 29.932, 29.313), ( 23.421, 32.324),\n",
      "     (341.769,  6.754), ( 54.345, 84.234), (  3.131, 56.432)]>\n"
     ]
    }
   ],
   "source": [
    "from astropy.coordinates import SkyCoord \n",
    "import numpy as np \n",
    "import astropy.units as u\n",
    "\n",
    "a = np.array([15.987, 29.932, 23.421, -18.231, 54.345, 3.131]) \n",
    "b = np.array([13.245, 29.313, 32.324, 6.754, 84.234, 56.432])\n",
    "\n",
    "c = SkyCoord(ra= a*u.degree, dec= b*u.degree) \n",
    "\n",
    "print(c)"
   ]
  },
  {
   "cell_type": "markdown",
   "metadata": {},
   "source": [
    "Reshape the array as a $6 \\times 6$ array."
   ]
  },
  {
   "cell_type": "code",
   "execution_count": null,
   "metadata": {},
   "outputs": [],
   "source": []
  },
  {
   "cell_type": "markdown",
   "metadata": {},
   "source": [
    "# Coordinate Access "
   ]
  },
  {
   "cell_type": "markdown",
   "metadata": {},
   "source": [
    "The coordinate components may be accessed. The default coordinate system is the ICRS coordinate system. An ICRS Coordinate System has the right accension RA angle component and the declination DEC angle component. "
   ]
  },
  {
   "cell_type": "markdown",
   "metadata": {},
   "source": [
    "Consider the ICRS Coordinate $f = (10.8763 \\degree, 65.2345 \\degree)$\n",
    "1. Using SkyCoord, store the coordinate. \n",
    "2. Access the RA coordinate \n",
    "3. Access the DEC coordinate"
   ]
  },
  {
   "cell_type": "code",
   "execution_count": 62,
   "metadata": {},
   "outputs": [
    {
     "name": "stdout",
     "output_type": "stream",
     "text": [
      "10d52m34.68s\n",
      "65d14m04.2s\n"
     ]
    }
   ],
   "source": [
    "import astropy.units as u \n",
    "from astropy.coordinates import SkyCoord\n",
    "\n",
    "# 1. Using SkyCoord to store the Coord. \n",
    "\n",
    "f = SkyCoord(ra = 10.8763*u.degree, dec = 65.2345*u.degree)\n",
    "\n",
    "# 2. Access the RA Coordinate.\n",
    "print(f.ra) \n",
    "\n",
    "# 3. Access the DEC Coordinate. \n",
    "print(f.dec)"
   ]
  },
  {
   "cell_type": "markdown",
   "metadata": {},
   "source": [
    "* d.ra : access the ra part of the d coordinate \n",
    "* d.dec : access the dec part of the d coordinate."
   ]
  },
  {
   "cell_type": "code",
   "execution_count": 63,
   "metadata": {},
   "outputs": [
    {
     "name": "stdout",
     "output_type": "stream",
     "text": [
      "10d41m04.488s\n",
      "0.7123053333333335\n",
      "hms_tuple(h=0.0, m=42.0, s=44.299200000000525)\n",
      "41d16m09.012s\n",
      "41.26917\n",
      "0.7202828960652683\n"
     ]
    }
   ],
   "source": [
    "c = SkyCoord(ra=10.68458*u.degree, dec=41.26917*u.degree)\n",
    "print(c.ra )\n",
    "print(c.ra.hour) \n",
    "print(c.ra.hms) \n",
    "\n",
    "print(c.dec)  \n",
    "print(c.dec.degree) \n",
    "print(c.dec.radian)  "
   ]
  },
  {
   "cell_type": "markdown",
   "metadata": {},
   "source": [
    "## Practice Exercises: \n",
    "Access the coordinates RA and DE and their respective days, hours, minutes and seconds. \n",
    "1. $a = (32,2342 \\degree, 43.3242 \\degree$)\n",
    "2. $b = (45.345 \\degree , 43.223 \\degree$)"
   ]
  },
  {
   "cell_type": "markdown",
   "metadata": {},
   "source": [
    "Please Enter Your Code in the Box Below:"
   ]
  },
  {
   "cell_type": "code",
   "execution_count": 104,
   "metadata": {},
   "outputs": [
    {
     "name": "stdout",
     "output_type": "stream",
     "text": [
      "ra hour of a = 2.1489466666666672\n",
      "ra minute of a = <built-in method min of Longitude object at 0x000002167D6E8150>\n",
      "ra second of a = hms_tuple(h=2.0, m=8.0, s=56.208000000002016)\n",
      "ra hour of b = 3.0230000000000006\n",
      "ra minute of b = <built-in method min of Longitude object at 0x000002167D6B3550>\n",
      "ra second of b = hms_tuple(h=3.0, m=1.0, s=22.800000000002072)\n"
     ]
    }
   ],
   "source": [
    "from astropy.coordinates import SkyCoord \n",
    "import astropy.units as u \n",
    "\n",
    "a = SkyCoord(ra= 32.2342*u.degree , dec= 43.3242*u.degree)\n",
    "print(\"ra hour of a =\", a.ra.hour)\n",
    "print(\"ra minute of a =\", a.ra.min)\n",
    "print(\"ra second of a =\", a.ra.hms)\n",
    "\n",
    "\n",
    "\n",
    "\n",
    "b = SkyCoord(ra= 45.345*u.degree, dec= 43.223*u.degree) \n",
    "print(\"ra hour of b =\", b.ra.hour)\n",
    "print(\"ra minute of b =\", b.ra.min)\n",
    "print(\"ra second of b =\", b.ra.hms)\n"
   ]
  },
  {
   "cell_type": "markdown",
   "metadata": {},
   "source": [
    "# Transformation of Coordinates "
   ]
  },
  {
   "cell_type": "markdown",
   "metadata": {},
   "source": [
    "We are now going to look at how to tranform coordinates be it from ICRS to Galacic Coordinates or from Spherical Coordinates to Cartesian Coordinates and so on and so forth"
   ]
  },
  {
   "cell_type": "markdown",
   "metadata": {},
   "source": [
    "Suppose that we want to convert from ICRS Coordinates to Galactic Coordinates. To do this we use the .galactic attribute as shown in the code below:"
   ]
  },
  {
   "cell_type": "code",
   "execution_count": 105,
   "metadata": {},
   "outputs": [
    {
     "name": "stdout",
     "output_type": "stream",
     "text": [
      "<SkyCoord (ICRS): (ra, dec) in deg\n",
      "    (10.6578, 21.3456)>\n",
      "<SkyCoord (Galactic): (l, b) in deg\n",
      "    (120.19442265, -41.47933259)>\n"
     ]
    }
   ],
   "source": [
    "c_iris = SkyCoord(10.6578*u.degree, 21.3456*u.degree)  #ICRS Coordinates \n",
    "\n",
    "c_iris.galactic #.galactic converts the ICRS coordinate to a galactic coordinate\n",
    "print(c_iris)\n",
    "print(c_iris.galactic)\n"
   ]
  },
  {
   "cell_type": "markdown",
   "metadata": {},
   "source": [
    "# Coordinate Representation\n"
   ]
  },
  {
   "cell_type": "markdown",
   "metadata": {},
   "source": [
    "Representation in Cartesian and Cylindrical Coordinates."
   ]
  },
  {
   "cell_type": "code",
   "execution_count": 106,
   "metadata": {},
   "outputs": [
    {
     "data": {
      "text/plain": [
       "<SkyCoord (ICRS): (rho, phi, z) in (kpc, deg, kpc)\n",
       "    (2.23606798, 63.43494882, 3.)>"
      ]
     },
     "execution_count": 106,
     "metadata": {},
     "output_type": "execute_result"
    }
   ],
   "source": [
    "c = SkyCoord(x=1, y=2, z=3, unit='kpc', representation_type='cartesian')\n",
    "c  \n",
    "c.x, c.y, c.z  \n",
    "\n",
    "c.representation_type = 'cylindrical'\n",
    "c  "
   ]
  },
  {
   "cell_type": "markdown",
   "metadata": {},
   "source": [
    "Representation of Spherical Coordinates"
   ]
  },
  {
   "cell_type": "code",
   "execution_count": 107,
   "metadata": {},
   "outputs": [
    {
     "name": "stdout",
     "output_type": "stream",
     "text": [
      "<class 'astropy.coordinates.representation.spherical.SphericalRepresentation'>\n"
     ]
    }
   ],
   "source": [
    "c.representation_type = 'spherical'\n",
    "print(c.representation_type)"
   ]
  },
  {
   "cell_type": "markdown",
   "metadata": {},
   "source": [
    "## Practice Exercise.\n",
    "\n",
    "Convert the coordinates into cartesian coordinates \n",
    "1. $a = (10.4563 \\degree, -21.3563 \\degree) $ \n",
    "2. $b = (23.4567 \\degree, 10.2342 \\degree ) $"
   ]
  },
  {
   "cell_type": "code",
   "execution_count": 122,
   "metadata": {},
   "outputs": [
    {
     "name": "stdout",
     "output_type": "stream",
     "text": [
      "a in cartesian (0.91586775, 0.16902362, -0.36416655) \n",
      "b in cartesian (0.90276569, 0.39172273, 0.17767218) \n"
     ]
    }
   ],
   "source": [
    "from astropy.coordinates import SkyCoord \n",
    "import astropy.units as u \n",
    "\n",
    "a = SkyCoord(ra = 10.4563*u.degree, dec= -21.3563*u.degree)   \n",
    "print(\"a in cartesian\", a.cartesian) \n",
    "\n",
    "b = SkyCoord(ra= 23.4567*u.degree, dec=10.2342*u.degree)\n",
    "print(\"b in cartesian\", b.cartesian) \n"
   ]
  },
  {
   "cell_type": "markdown",
   "metadata": {},
   "source": [
    "Convert the coordinates, a and b,  into spherical coordinates."
   ]
  },
  {
   "cell_type": "code",
   "execution_count": 128,
   "metadata": {},
   "outputs": [
    {
     "name": "stdout",
     "output_type": "stream",
     "text": [
      "(10.4563, -21.3563, 1.) (deg, deg, )\n",
      "(23.4567, 10.2342, 1.) (deg, deg, )\n"
     ]
    }
   ],
   "source": [
    "print(a.spherical)\n",
    "print(b.spherical)"
   ]
  },
  {
   "cell_type": "markdown",
   "metadata": {},
   "source": [
    "## Distance "
   ]
  },
  {
   "cell_type": "code",
   "execution_count": 129,
   "metadata": {},
   "outputs": [
    {
     "data": {
      "text/latex": [
       "$507.88994 \\; \\mathrm{kpc}$"
      ],
      "text/plain": [
       "<Quantity 507.88994292 kpc>"
      ]
     },
     "execution_count": 129,
     "metadata": {},
     "output_type": "execute_result"
    }
   ],
   "source": [
    "c = SkyCoord(ra=10.68458*u.degree, dec=41.26917*u.degree, distance=770*u.kpc)\n",
    "c.cartesian.x  \n",
    "c.cartesian.y  \n",
    "c.cartesian.z "
   ]
  },
  {
   "cell_type": "markdown",
   "metadata": {},
   "source": [
    "## Velocities."
   ]
  },
  {
   "cell_type": "code",
   "execution_count": 130,
   "metadata": {},
   "outputs": [
    {
     "data": {
      "text/plain": [
       "<SkyCoord (ICRS): (ra, dec) in deg\n",
       "    (1., 2.)\n",
       " (radial_velocity) in km / s\n",
       "    (20.,)>"
      ]
     },
     "execution_count": 130,
     "metadata": {},
     "output_type": "execute_result"
    }
   ],
   "source": [
    "sc = SkyCoord(1*u.deg, 2*u.deg, radial_velocity=20*u.km/u.s)\n",
    "sc  "
   ]
  }
 ],
 "metadata": {
  "kernelspec": {
   "display_name": "Python 3",
   "language": "python",
   "name": "python3"
  },
  "language_info": {
   "codemirror_mode": {
    "name": "ipython",
    "version": 3
   },
   "file_extension": ".py",
   "mimetype": "text/x-python",
   "name": "python",
   "nbconvert_exporter": "python",
   "pygments_lexer": "ipython3",
   "version": "3.12.1"
  }
 },
 "nbformat": 4,
 "nbformat_minor": 2
}
